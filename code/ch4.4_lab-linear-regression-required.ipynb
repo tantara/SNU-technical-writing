{
 "cells": [
  {
   "cell_type": "code",
   "execution_count": 1,
   "metadata": {
    "collapsed": false,
    "deletable": true,
    "editable": true
   },
   "outputs": [],
   "source": [
    "import csv\n",
    "import random\n",
    "from sklearn.linear_model import LinearRegression\n",
    "import pandas as pd"
   ]
  },
  {
   "cell_type": "code",
   "execution_count": 2,
   "metadata": {
    "collapsed": true,
    "deletable": true,
    "editable": true
   },
   "outputs": [],
   "source": [
    "# Set the seed \n",
    "random.seed(42)"
   ]
  },
  {
   "cell_type": "markdown",
   "metadata": {
    "deletable": true,
    "editable": true
   },
   "source": [
    "### 1. 수강편람 데이터 불러오기"
   ]
  },
  {
   "cell_type": "code",
   "execution_count": 3,
   "metadata": {
    "collapsed": false,
    "deletable": true,
    "editable": true
   },
   "outputs": [],
   "source": [
    "CSV = pd.DataFrame.from_csv(\"./data.csv\", header=0)"
   ]
  },
  {
   "cell_type": "markdown",
   "metadata": {
    "deletable": true,
    "editable": true
   },
   "source": [
    "#### 1.1 전공필수"
   ]
  },
  {
   "cell_type": "code",
   "execution_count": 4,
   "metadata": {
    "collapsed": false,
    "deletable": true,
    "editable": true
   },
   "outputs": [
    {
     "data": {
      "text/html": [
       "<div>\n",
       "<style>\n",
       "    .dataframe thead tr:only-child th {\n",
       "        text-align: right;\n",
       "    }\n",
       "\n",
       "    .dataframe thead th {\n",
       "        text-align: left;\n",
       "    }\n",
       "\n",
       "    .dataframe tbody tr th {\n",
       "        vertical-align: top;\n",
       "    }\n",
       "</style>\n",
       "<table border=\"1\" class=\"dataframe\">\n",
       "  <thead>\n",
       "    <tr style=\"text-align: right;\">\n",
       "      <th></th>\n",
       "      <th>year</th>\n",
       "      <th>spring</th>\n",
       "      <th>fall</th>\n",
       "      <th>academic_year</th>\n",
       "      <th>required</th>\n",
       "      <th>quota</th>\n",
       "      <th>enrollment</th>\n",
       "      <th>junior</th>\n",
       "      <th>double</th>\n",
       "      <th>second</th>\n",
       "      <th>all</th>\n",
       "    </tr>\n",
       "    <tr>\n",
       "      <th>year-semester</th>\n",
       "      <th></th>\n",
       "      <th></th>\n",
       "      <th></th>\n",
       "      <th></th>\n",
       "      <th></th>\n",
       "      <th></th>\n",
       "      <th></th>\n",
       "      <th></th>\n",
       "      <th></th>\n",
       "      <th></th>\n",
       "      <th></th>\n",
       "    </tr>\n",
       "  </thead>\n",
       "  <tbody>\n",
       "    <tr>\n",
       "      <th>2007-01-01</th>\n",
       "      <td>2007</td>\n",
       "      <td>1</td>\n",
       "      <td>0</td>\n",
       "      <td>2</td>\n",
       "      <td>1</td>\n",
       "      <td>440</td>\n",
       "      <td>338</td>\n",
       "      <td>49</td>\n",
       "      <td>0</td>\n",
       "      <td>0</td>\n",
       "      <td>297</td>\n",
       "    </tr>\n",
       "    <tr>\n",
       "      <th>2007-01-01</th>\n",
       "      <td>2007</td>\n",
       "      <td>1</td>\n",
       "      <td>0</td>\n",
       "      <td>3</td>\n",
       "      <td>1</td>\n",
       "      <td>200</td>\n",
       "      <td>116</td>\n",
       "      <td>49</td>\n",
       "      <td>0</td>\n",
       "      <td>0</td>\n",
       "      <td>297</td>\n",
       "    </tr>\n",
       "    <tr>\n",
       "      <th>2007-02-01</th>\n",
       "      <td>2007</td>\n",
       "      <td>0</td>\n",
       "      <td>1</td>\n",
       "      <td>2</td>\n",
       "      <td>1</td>\n",
       "      <td>420</td>\n",
       "      <td>250</td>\n",
       "      <td>49</td>\n",
       "      <td>0</td>\n",
       "      <td>0</td>\n",
       "      <td>280</td>\n",
       "    </tr>\n",
       "    <tr>\n",
       "      <th>2007-02-01</th>\n",
       "      <td>2007</td>\n",
       "      <td>0</td>\n",
       "      <td>1</td>\n",
       "      <td>3</td>\n",
       "      <td>1</td>\n",
       "      <td>260</td>\n",
       "      <td>161</td>\n",
       "      <td>49</td>\n",
       "      <td>0</td>\n",
       "      <td>0</td>\n",
       "      <td>280</td>\n",
       "    </tr>\n",
       "    <tr>\n",
       "      <th>2008-01-01</th>\n",
       "      <td>2008</td>\n",
       "      <td>1</td>\n",
       "      <td>0</td>\n",
       "      <td>3</td>\n",
       "      <td>1</td>\n",
       "      <td>210</td>\n",
       "      <td>103</td>\n",
       "      <td>51</td>\n",
       "      <td>0</td>\n",
       "      <td>0</td>\n",
       "      <td>297</td>\n",
       "    </tr>\n",
       "  </tbody>\n",
       "</table>\n",
       "</div>"
      ],
      "text/plain": [
       "               year  spring  fall  academic_year  required  quota  enrollment  \\\n",
       "year-semester                                                                   \n",
       "2007-01-01     2007       1     0              2         1    440         338   \n",
       "2007-01-01     2007       1     0              3         1    200         116   \n",
       "2007-02-01     2007       0     1              2         1    420         250   \n",
       "2007-02-01     2007       0     1              3         1    260         161   \n",
       "2008-01-01     2008       1     0              3         1    210         103   \n",
       "\n",
       "               junior  double  second  all  \n",
       "year-semester                               \n",
       "2007-01-01         49       0       0  297  \n",
       "2007-01-01         49       0       0  297  \n",
       "2007-02-01         49       0       0  280  \n",
       "2007-02-01         49       0       0  280  \n",
       "2008-01-01         51       0       0  297  "
      ]
     },
     "execution_count": 4,
     "metadata": {},
     "output_type": "execute_result"
    }
   ],
   "source": [
    "CSV_required = CSV[CSV[\"required\"] == 1]\n",
    "CSV_required.head()"
   ]
  },
  {
   "cell_type": "markdown",
   "metadata": {
    "deletable": true,
    "editable": true
   },
   "source": [
    "#### 1.2 전공선택"
   ]
  },
  {
   "cell_type": "code",
   "execution_count": 5,
   "metadata": {
    "collapsed": false,
    "deletable": true,
    "editable": true
   },
   "outputs": [
    {
     "data": {
      "text/html": [
       "<div>\n",
       "<style>\n",
       "    .dataframe thead tr:only-child th {\n",
       "        text-align: right;\n",
       "    }\n",
       "\n",
       "    .dataframe thead th {\n",
       "        text-align: left;\n",
       "    }\n",
       "\n",
       "    .dataframe tbody tr th {\n",
       "        vertical-align: top;\n",
       "    }\n",
       "</style>\n",
       "<table border=\"1\" class=\"dataframe\">\n",
       "  <thead>\n",
       "    <tr style=\"text-align: right;\">\n",
       "      <th></th>\n",
       "      <th>year</th>\n",
       "      <th>spring</th>\n",
       "      <th>fall</th>\n",
       "      <th>academic_year</th>\n",
       "      <th>required</th>\n",
       "      <th>quota</th>\n",
       "      <th>enrollment</th>\n",
       "      <th>junior</th>\n",
       "      <th>double</th>\n",
       "      <th>second</th>\n",
       "      <th>all</th>\n",
       "    </tr>\n",
       "    <tr>\n",
       "      <th>year-semester</th>\n",
       "      <th></th>\n",
       "      <th></th>\n",
       "      <th></th>\n",
       "      <th></th>\n",
       "      <th></th>\n",
       "      <th></th>\n",
       "      <th></th>\n",
       "      <th></th>\n",
       "      <th></th>\n",
       "      <th></th>\n",
       "      <th></th>\n",
       "    </tr>\n",
       "  </thead>\n",
       "  <tbody>\n",
       "    <tr>\n",
       "      <th>2007-01-01</th>\n",
       "      <td>2007</td>\n",
       "      <td>1</td>\n",
       "      <td>0</td>\n",
       "      <td>2</td>\n",
       "      <td>0</td>\n",
       "      <td>80</td>\n",
       "      <td>55</td>\n",
       "      <td>49</td>\n",
       "      <td>0</td>\n",
       "      <td>0</td>\n",
       "      <td>297</td>\n",
       "    </tr>\n",
       "    <tr>\n",
       "      <th>2007-01-01</th>\n",
       "      <td>2007</td>\n",
       "      <td>1</td>\n",
       "      <td>0</td>\n",
       "      <td>3</td>\n",
       "      <td>0</td>\n",
       "      <td>310</td>\n",
       "      <td>185</td>\n",
       "      <td>49</td>\n",
       "      <td>0</td>\n",
       "      <td>0</td>\n",
       "      <td>297</td>\n",
       "    </tr>\n",
       "    <tr>\n",
       "      <th>2007-01-01</th>\n",
       "      <td>2007</td>\n",
       "      <td>1</td>\n",
       "      <td>0</td>\n",
       "      <td>4</td>\n",
       "      <td>0</td>\n",
       "      <td>540</td>\n",
       "      <td>201</td>\n",
       "      <td>49</td>\n",
       "      <td>0</td>\n",
       "      <td>0</td>\n",
       "      <td>297</td>\n",
       "    </tr>\n",
       "    <tr>\n",
       "      <th>2007-02-01</th>\n",
       "      <td>2007</td>\n",
       "      <td>0</td>\n",
       "      <td>1</td>\n",
       "      <td>2</td>\n",
       "      <td>0</td>\n",
       "      <td>230</td>\n",
       "      <td>113</td>\n",
       "      <td>49</td>\n",
       "      <td>0</td>\n",
       "      <td>0</td>\n",
       "      <td>280</td>\n",
       "    </tr>\n",
       "    <tr>\n",
       "      <th>2007-02-01</th>\n",
       "      <td>2007</td>\n",
       "      <td>0</td>\n",
       "      <td>1</td>\n",
       "      <td>3</td>\n",
       "      <td>0</td>\n",
       "      <td>440</td>\n",
       "      <td>159</td>\n",
       "      <td>49</td>\n",
       "      <td>0</td>\n",
       "      <td>0</td>\n",
       "      <td>280</td>\n",
       "    </tr>\n",
       "  </tbody>\n",
       "</table>\n",
       "</div>"
      ],
      "text/plain": [
       "               year  spring  fall  academic_year  required  quota  enrollment  \\\n",
       "year-semester                                                                   \n",
       "2007-01-01     2007       1     0              2         0     80          55   \n",
       "2007-01-01     2007       1     0              3         0    310         185   \n",
       "2007-01-01     2007       1     0              4         0    540         201   \n",
       "2007-02-01     2007       0     1              2         0    230         113   \n",
       "2007-02-01     2007       0     1              3         0    440         159   \n",
       "\n",
       "               junior  double  second  all  \n",
       "year-semester                               \n",
       "2007-01-01         49       0       0  297  \n",
       "2007-01-01         49       0       0  297  \n",
       "2007-01-01         49       0       0  297  \n",
       "2007-02-01         49       0       0  280  \n",
       "2007-02-01         49       0       0  280  "
      ]
     },
     "execution_count": 5,
     "metadata": {},
     "output_type": "execute_result"
    }
   ],
   "source": [
    "CSV_not_required = CSV[CSV[\"required\"] == 0]\n",
    "CSV_not_required.head()"
   ]
  },
  {
   "cell_type": "markdown",
   "metadata": {
    "deletable": true,
    "editable": true
   },
   "source": [
    "### 2. 정규화(Normalization)"
   ]
  },
  {
   "cell_type": "markdown",
   "metadata": {
    "deletable": true,
    "editable": true
   },
   "source": [
    "#### 2.1 전공필수"
   ]
  },
  {
   "cell_type": "code",
   "execution_count": 6,
   "metadata": {
    "collapsed": false,
    "deletable": true,
    "editable": true
   },
   "outputs": [
    {
     "data": {
      "text/html": [
       "<div>\n",
       "<style>\n",
       "    .dataframe thead tr:only-child th {\n",
       "        text-align: right;\n",
       "    }\n",
       "\n",
       "    .dataframe thead th {\n",
       "        text-align: left;\n",
       "    }\n",
       "\n",
       "    .dataframe tbody tr th {\n",
       "        vertical-align: top;\n",
       "    }\n",
       "</style>\n",
       "<table border=\"1\" class=\"dataframe\">\n",
       "  <thead>\n",
       "    <tr style=\"text-align: right;\">\n",
       "      <th></th>\n",
       "      <th>year</th>\n",
       "      <th>spring</th>\n",
       "      <th>fall</th>\n",
       "      <th>academic_year</th>\n",
       "      <th>required</th>\n",
       "      <th>quota</th>\n",
       "      <th>enrollment</th>\n",
       "      <th>junior</th>\n",
       "      <th>double</th>\n",
       "      <th>second</th>\n",
       "      <th>all</th>\n",
       "    </tr>\n",
       "    <tr>\n",
       "      <th>year-semester</th>\n",
       "      <th></th>\n",
       "      <th></th>\n",
       "      <th></th>\n",
       "      <th></th>\n",
       "      <th></th>\n",
       "      <th></th>\n",
       "      <th></th>\n",
       "      <th></th>\n",
       "      <th></th>\n",
       "      <th></th>\n",
       "      <th></th>\n",
       "    </tr>\n",
       "  </thead>\n",
       "  <tbody>\n",
       "    <tr>\n",
       "      <th>2007-01-01</th>\n",
       "      <td>-0.47619</td>\n",
       "      <td>0.47619</td>\n",
       "      <td>-0.47619</td>\n",
       "      <td>-0.5</td>\n",
       "      <td>NaN</td>\n",
       "      <td>0.221518</td>\n",
       "      <td>0.125873</td>\n",
       "      <td>-0.27619</td>\n",
       "      <td>-0.237037</td>\n",
       "      <td>-0.219048</td>\n",
       "      <td>-0.030099</td>\n",
       "    </tr>\n",
       "    <tr>\n",
       "      <th>2007-01-01</th>\n",
       "      <td>-0.47619</td>\n",
       "      <td>0.47619</td>\n",
       "      <td>-0.47619</td>\n",
       "      <td>0.5</td>\n",
       "      <td>NaN</td>\n",
       "      <td>-0.188038</td>\n",
       "      <td>-0.239860</td>\n",
       "      <td>-0.27619</td>\n",
       "      <td>-0.237037</td>\n",
       "      <td>-0.219048</td>\n",
       "      <td>-0.030099</td>\n",
       "    </tr>\n",
       "    <tr>\n",
       "      <th>2007-02-01</th>\n",
       "      <td>-0.47619</td>\n",
       "      <td>-0.52381</td>\n",
       "      <td>0.52381</td>\n",
       "      <td>-0.5</td>\n",
       "      <td>NaN</td>\n",
       "      <td>0.187388</td>\n",
       "      <td>-0.019103</td>\n",
       "      <td>-0.27619</td>\n",
       "      <td>-0.237037</td>\n",
       "      <td>-0.219048</td>\n",
       "      <td>-0.190476</td>\n",
       "    </tr>\n",
       "    <tr>\n",
       "      <th>2007-02-01</th>\n",
       "      <td>-0.47619</td>\n",
       "      <td>-0.52381</td>\n",
       "      <td>0.52381</td>\n",
       "      <td>0.5</td>\n",
       "      <td>NaN</td>\n",
       "      <td>-0.085649</td>\n",
       "      <td>-0.165725</td>\n",
       "      <td>-0.27619</td>\n",
       "      <td>-0.237037</td>\n",
       "      <td>-0.219048</td>\n",
       "      <td>-0.190476</td>\n",
       "    </tr>\n",
       "    <tr>\n",
       "      <th>2008-01-01</th>\n",
       "      <td>-0.37619</td>\n",
       "      <td>0.47619</td>\n",
       "      <td>-0.47619</td>\n",
       "      <td>0.5</td>\n",
       "      <td>NaN</td>\n",
       "      <td>-0.170974</td>\n",
       "      <td>-0.261277</td>\n",
       "      <td>-0.07619</td>\n",
       "      <td>-0.237037</td>\n",
       "      <td>-0.219048</td>\n",
       "      <td>-0.030099</td>\n",
       "    </tr>\n",
       "  </tbody>\n",
       "</table>\n",
       "</div>"
      ],
      "text/plain": [
       "                  year   spring     fall  academic_year  required     quota  \\\n",
       "year-semester                                                                 \n",
       "2007-01-01    -0.47619  0.47619 -0.47619           -0.5       NaN  0.221518   \n",
       "2007-01-01    -0.47619  0.47619 -0.47619            0.5       NaN -0.188038   \n",
       "2007-02-01    -0.47619 -0.52381  0.52381           -0.5       NaN  0.187388   \n",
       "2007-02-01    -0.47619 -0.52381  0.52381            0.5       NaN -0.085649   \n",
       "2008-01-01    -0.37619  0.47619 -0.47619            0.5       NaN -0.170974   \n",
       "\n",
       "               enrollment   junior    double    second       all  \n",
       "year-semester                                                     \n",
       "2007-01-01       0.125873 -0.27619 -0.237037 -0.219048 -0.030099  \n",
       "2007-01-01      -0.239860 -0.27619 -0.237037 -0.219048 -0.030099  \n",
       "2007-02-01      -0.019103 -0.27619 -0.237037 -0.219048 -0.190476  \n",
       "2007-02-01      -0.165725 -0.27619 -0.237037 -0.219048 -0.190476  \n",
       "2008-01-01      -0.261277 -0.07619 -0.237037 -0.219048 -0.030099  "
      ]
     },
     "execution_count": 6,
     "metadata": {},
     "output_type": "execute_result"
    }
   ],
   "source": [
    "CSV_required = (CSV_required - CSV_required.mean()) / (CSV_required.max() - CSV_required.min())\n",
    "CSV_required.head()"
   ]
  },
  {
   "cell_type": "markdown",
   "metadata": {
    "deletable": true,
    "editable": true
   },
   "source": [
    "#### 2.2 전공선택"
   ]
  },
  {
   "cell_type": "code",
   "execution_count": 7,
   "metadata": {
    "collapsed": false,
    "deletable": true,
    "editable": true
   },
   "outputs": [
    {
     "data": {
      "text/html": [
       "<div>\n",
       "<style>\n",
       "    .dataframe thead tr:only-child th {\n",
       "        text-align: right;\n",
       "    }\n",
       "\n",
       "    .dataframe thead th {\n",
       "        text-align: left;\n",
       "    }\n",
       "\n",
       "    .dataframe tbody tr th {\n",
       "        vertical-align: top;\n",
       "    }\n",
       "</style>\n",
       "<table border=\"1\" class=\"dataframe\">\n",
       "  <thead>\n",
       "    <tr style=\"text-align: right;\">\n",
       "      <th></th>\n",
       "      <th>year</th>\n",
       "      <th>spring</th>\n",
       "      <th>fall</th>\n",
       "      <th>academic_year</th>\n",
       "      <th>required</th>\n",
       "      <th>quota</th>\n",
       "      <th>enrollment</th>\n",
       "      <th>junior</th>\n",
       "      <th>double</th>\n",
       "      <th>second</th>\n",
       "      <th>all</th>\n",
       "    </tr>\n",
       "    <tr>\n",
       "      <th>year-semester</th>\n",
       "      <th></th>\n",
       "      <th></th>\n",
       "      <th></th>\n",
       "      <th></th>\n",
       "      <th></th>\n",
       "      <th></th>\n",
       "      <th></th>\n",
       "      <th></th>\n",
       "      <th></th>\n",
       "      <th></th>\n",
       "      <th></th>\n",
       "    </tr>\n",
       "  </thead>\n",
       "  <tbody>\n",
       "    <tr>\n",
       "      <th>2007-01-01</th>\n",
       "      <td>-0.495714</td>\n",
       "      <td>0.514286</td>\n",
       "      <td>-0.514286</td>\n",
       "      <td>-0.257143</td>\n",
       "      <td>NaN</td>\n",
       "      <td>-0.243541</td>\n",
       "      <td>-0.255442</td>\n",
       "      <td>-0.295714</td>\n",
       "      <td>-0.245079</td>\n",
       "      <td>-0.226286</td>\n",
       "      <td>-0.038544</td>\n",
       "    </tr>\n",
       "    <tr>\n",
       "      <th>2007-01-01</th>\n",
       "      <td>-0.495714</td>\n",
       "      <td>0.514286</td>\n",
       "      <td>-0.514286</td>\n",
       "      <td>0.076190</td>\n",
       "      <td>NaN</td>\n",
       "      <td>0.080402</td>\n",
       "      <td>0.131463</td>\n",
       "      <td>-0.295714</td>\n",
       "      <td>-0.245079</td>\n",
       "      <td>-0.226286</td>\n",
       "      <td>-0.038544</td>\n",
       "    </tr>\n",
       "    <tr>\n",
       "      <th>2007-01-01</th>\n",
       "      <td>-0.495714</td>\n",
       "      <td>0.514286</td>\n",
       "      <td>-0.514286</td>\n",
       "      <td>0.409524</td>\n",
       "      <td>NaN</td>\n",
       "      <td>0.404346</td>\n",
       "      <td>0.179082</td>\n",
       "      <td>-0.295714</td>\n",
       "      <td>-0.245079</td>\n",
       "      <td>-0.226286</td>\n",
       "      <td>-0.038544</td>\n",
       "    </tr>\n",
       "    <tr>\n",
       "      <th>2007-02-01</th>\n",
       "      <td>-0.495714</td>\n",
       "      <td>-0.485714</td>\n",
       "      <td>0.485714</td>\n",
       "      <td>-0.257143</td>\n",
       "      <td>NaN</td>\n",
       "      <td>-0.032274</td>\n",
       "      <td>-0.082823</td>\n",
       "      <td>-0.295714</td>\n",
       "      <td>-0.245079</td>\n",
       "      <td>-0.226286</td>\n",
       "      <td>-0.198922</td>\n",
       "    </tr>\n",
       "    <tr>\n",
       "      <th>2007-02-01</th>\n",
       "      <td>-0.495714</td>\n",
       "      <td>-0.485714</td>\n",
       "      <td>0.485714</td>\n",
       "      <td>0.076190</td>\n",
       "      <td>NaN</td>\n",
       "      <td>0.263501</td>\n",
       "      <td>0.054082</td>\n",
       "      <td>-0.295714</td>\n",
       "      <td>-0.245079</td>\n",
       "      <td>-0.226286</td>\n",
       "      <td>-0.198922</td>\n",
       "    </tr>\n",
       "  </tbody>\n",
       "</table>\n",
       "</div>"
      ],
      "text/plain": [
       "                   year    spring      fall  academic_year  required  \\\n",
       "year-semester                                                          \n",
       "2007-01-01    -0.495714  0.514286 -0.514286      -0.257143       NaN   \n",
       "2007-01-01    -0.495714  0.514286 -0.514286       0.076190       NaN   \n",
       "2007-01-01    -0.495714  0.514286 -0.514286       0.409524       NaN   \n",
       "2007-02-01    -0.495714 -0.485714  0.485714      -0.257143       NaN   \n",
       "2007-02-01    -0.495714 -0.485714  0.485714       0.076190       NaN   \n",
       "\n",
       "                  quota  enrollment    junior    double    second       all  \n",
       "year-semester                                                                \n",
       "2007-01-01    -0.243541   -0.255442 -0.295714 -0.245079 -0.226286 -0.038544  \n",
       "2007-01-01     0.080402    0.131463 -0.295714 -0.245079 -0.226286 -0.038544  \n",
       "2007-01-01     0.404346    0.179082 -0.295714 -0.245079 -0.226286 -0.038544  \n",
       "2007-02-01    -0.032274   -0.082823 -0.295714 -0.245079 -0.226286 -0.198922  \n",
       "2007-02-01     0.263501    0.054082 -0.295714 -0.245079 -0.226286 -0.198922  "
      ]
     },
     "execution_count": 7,
     "metadata": {},
     "output_type": "execute_result"
    }
   ],
   "source": [
    "CSV_not_required = (CSV_not_required - CSV_not_required.mean()) / (CSV_not_required.max() - CSV_not_required.min())\n",
    "CSV_not_required.head()"
   ]
  },
  {
   "cell_type": "markdown",
   "metadata": {
    "deletable": true,
    "editable": true
   },
   "source": [
    "### 3. 선형회귀 데이터(column) 선택"
   ]
  },
  {
   "cell_type": "code",
   "execution_count": 8,
   "metadata": {
    "collapsed": false,
    "deletable": true,
    "editable": true
   },
   "outputs": [],
   "source": [
    "feature_to_filter = [\"academic_year\", \"junior\", \"double\", \"second\", \"all\"]\n",
    "\n",
    "train_dataset_required = CSV_required[feature_to_filter].values.tolist()\n",
    "train_target_required = CSV_required[\"enrollment\"].values.tolist()\n",
    "\n",
    "train_dataset_not_required = CSV_not_required[feature_to_filter].values.tolist()\n",
    "train_target_not_required = CSV_not_required[\"enrollment\"].values.tolist()"
   ]
  },
  {
   "cell_type": "markdown",
   "metadata": {
    "deletable": true,
    "editable": true
   },
   "source": [
    "### 4. 선형회귀(Linear Regression)"
   ]
  },
  {
   "cell_type": "markdown",
   "metadata": {
    "deletable": true,
    "editable": true
   },
   "source": [
    "#### 4.1 전공필수"
   ]
  },
  {
   "cell_type": "code",
   "execution_count": 9,
   "metadata": {
    "collapsed": false,
    "deletable": true,
    "editable": true
   },
   "outputs": [
    {
     "data": {
      "text/plain": [
       "LinearRegression(copy_X=True, fit_intercept=True, n_jobs=1, normalize=False)"
      ]
     },
     "execution_count": 9,
     "metadata": {},
     "output_type": "execute_result"
    }
   ],
   "source": [
    "model_required = LinearRegression()\n",
    "model_required.fit(train_dataset_required, train_target_required)"
   ]
  },
  {
   "cell_type": "markdown",
   "metadata": {
    "deletable": true,
    "editable": true
   },
   "source": [
    "#### 4.2 전공선택"
   ]
  },
  {
   "cell_type": "code",
   "execution_count": 10,
   "metadata": {
    "collapsed": false,
    "deletable": true,
    "editable": true
   },
   "outputs": [
    {
     "data": {
      "text/plain": [
       "LinearRegression(copy_X=True, fit_intercept=True, n_jobs=1, normalize=False)"
      ]
     },
     "execution_count": 10,
     "metadata": {},
     "output_type": "execute_result"
    }
   ],
   "source": [
    "model_not_required = LinearRegression()\n",
    "model_not_required.fit(train_dataset_not_required, train_target_not_required)"
   ]
  },
  {
   "cell_type": "markdown",
   "metadata": {
    "deletable": true,
    "editable": true
   },
   "source": [
    "### 5. 결과"
   ]
  },
  {
   "cell_type": "markdown",
   "metadata": {
    "deletable": true,
    "editable": true
   },
   "source": [
    "#### 5.1 전공필수"
   ]
  },
  {
   "cell_type": "code",
   "execution_count": 11,
   "metadata": {
    "collapsed": false,
    "deletable": true,
    "editable": true
   },
   "outputs": [
    {
     "data": {
      "text/html": [
       "<div>\n",
       "<style>\n",
       "    .dataframe thead tr:only-child th {\n",
       "        text-align: right;\n",
       "    }\n",
       "\n",
       "    .dataframe thead th {\n",
       "        text-align: left;\n",
       "    }\n",
       "\n",
       "    .dataframe tbody tr th {\n",
       "        vertical-align: top;\n",
       "    }\n",
       "</style>\n",
       "<table border=\"1\" class=\"dataframe\">\n",
       "  <thead>\n",
       "    <tr style=\"text-align: right;\">\n",
       "      <th></th>\n",
       "      <th>features</th>\n",
       "      <th>coef</th>\n",
       "    </tr>\n",
       "  </thead>\n",
       "  <tbody>\n",
       "    <tr>\n",
       "      <th>0</th>\n",
       "      <td>academic_year</td>\n",
       "      <td>-0.312152</td>\n",
       "    </tr>\n",
       "    <tr>\n",
       "      <th>1</th>\n",
       "      <td>junior</td>\n",
       "      <td>0.086620</td>\n",
       "    </tr>\n",
       "    <tr>\n",
       "      <th>2</th>\n",
       "      <td>double</td>\n",
       "      <td>0.455853</td>\n",
       "    </tr>\n",
       "    <tr>\n",
       "      <th>3</th>\n",
       "      <td>second</td>\n",
       "      <td>-0.194786</td>\n",
       "    </tr>\n",
       "    <tr>\n",
       "      <th>4</th>\n",
       "      <td>all</td>\n",
       "      <td>0.059706</td>\n",
       "    </tr>\n",
       "  </tbody>\n",
       "</table>\n",
       "</div>"
      ],
      "text/plain": [
       "        features      coef\n",
       "0  academic_year -0.312152\n",
       "1         junior  0.086620\n",
       "2         double  0.455853\n",
       "3         second -0.194786\n",
       "4            all  0.059706"
      ]
     },
     "execution_count": 11,
     "metadata": {},
     "output_type": "execute_result"
    }
   ],
   "source": [
    "result = pd.DataFrame(list(zip(feature_to_filter, model_required.coef_)), columns=[\"features\", \"coef\"])\n",
    "result.head(100)"
   ]
  },
  {
   "cell_type": "markdown",
   "metadata": {
    "deletable": true,
    "editable": true
   },
   "source": [
    "#### 5.2 전공선택"
   ]
  },
  {
   "cell_type": "code",
   "execution_count": 12,
   "metadata": {
    "collapsed": false,
    "deletable": true,
    "editable": true
   },
   "outputs": [
    {
     "data": {
      "text/html": [
       "<div>\n",
       "<style>\n",
       "    .dataframe thead tr:only-child th {\n",
       "        text-align: right;\n",
       "    }\n",
       "\n",
       "    .dataframe thead th {\n",
       "        text-align: left;\n",
       "    }\n",
       "\n",
       "    .dataframe tbody tr th {\n",
       "        vertical-align: top;\n",
       "    }\n",
       "</style>\n",
       "<table border=\"1\" class=\"dataframe\">\n",
       "  <thead>\n",
       "    <tr style=\"text-align: right;\">\n",
       "      <th></th>\n",
       "      <th>features</th>\n",
       "      <th>coef</th>\n",
       "    </tr>\n",
       "  </thead>\n",
       "  <tbody>\n",
       "    <tr>\n",
       "      <th>0</th>\n",
       "      <td>academic_year</td>\n",
       "      <td>0.412623</td>\n",
       "    </tr>\n",
       "    <tr>\n",
       "      <th>1</th>\n",
       "      <td>junior</td>\n",
       "      <td>-0.074518</td>\n",
       "    </tr>\n",
       "    <tr>\n",
       "      <th>2</th>\n",
       "      <td>double</td>\n",
       "      <td>0.782608</td>\n",
       "    </tr>\n",
       "    <tr>\n",
       "      <th>3</th>\n",
       "      <td>second</td>\n",
       "      <td>-0.439818</td>\n",
       "    </tr>\n",
       "    <tr>\n",
       "      <th>4</th>\n",
       "      <td>all</td>\n",
       "      <td>0.169728</td>\n",
       "    </tr>\n",
       "  </tbody>\n",
       "</table>\n",
       "</div>"
      ],
      "text/plain": [
       "        features      coef\n",
       "0  academic_year  0.412623\n",
       "1         junior -0.074518\n",
       "2         double  0.782608\n",
       "3         second -0.439818\n",
       "4            all  0.169728"
      ]
     },
     "execution_count": 12,
     "metadata": {},
     "output_type": "execute_result"
    }
   ],
   "source": [
    "result = pd.DataFrame(list(zip(feature_to_filter, model_not_required.coef_)), columns=[\"features\", \"coef\"])\n",
    "result.head(100)"
   ]
  },
  {
   "cell_type": "code",
   "execution_count": null,
   "metadata": {
    "collapsed": true,
    "deletable": true,
    "editable": true
   },
   "outputs": [],
   "source": []
  }
 ],
 "metadata": {
  "kernelspec": {
   "display_name": "Python 3",
   "language": "python",
   "name": "python3"
  },
  "language_info": {
   "codemirror_mode": {
    "name": "ipython",
    "version": 3
   },
   "file_extension": ".py",
   "mimetype": "text/x-python",
   "name": "python",
   "nbconvert_exporter": "python",
   "pygments_lexer": "ipython3",
   "version": "3.5.2"
  }
 },
 "nbformat": 4,
 "nbformat_minor": 2
}
