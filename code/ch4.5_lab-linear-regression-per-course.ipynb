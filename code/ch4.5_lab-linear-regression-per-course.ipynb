{
 "cells": [
  {
   "cell_type": "code",
   "execution_count": 1,
   "metadata": {
    "collapsed": false,
    "deletable": true,
    "editable": true
   },
   "outputs": [],
   "source": [
    "import csv\n",
    "import random\n",
    "from sklearn.linear_model import LinearRegression\n",
    "import pandas as pd"
   ]
  },
  {
   "cell_type": "code",
   "execution_count": 2,
   "metadata": {
    "collapsed": true,
    "deletable": true,
    "editable": true
   },
   "outputs": [],
   "source": [
    "# Set the seed \n",
    "random.seed(42)"
   ]
  },
  {
   "cell_type": "markdown",
   "metadata": {
    "deletable": true,
    "editable": true
   },
   "source": [
    "### 1. 수강편람 데이터 불러오기"
   ]
  },
  {
   "cell_type": "code",
   "execution_count": 3,
   "metadata": {
    "collapsed": false,
    "deletable": true,
    "editable": true
   },
   "outputs": [
    {
     "data": {
      "text/html": [
       "<div>\n",
       "<style>\n",
       "    .dataframe thead tr:only-child th {\n",
       "        text-align: right;\n",
       "    }\n",
       "\n",
       "    .dataframe thead th {\n",
       "        text-align: left;\n",
       "    }\n",
       "\n",
       "    .dataframe tbody tr th {\n",
       "        vertical-align: top;\n",
       "    }\n",
       "</style>\n",
       "<table border=\"1\" class=\"dataframe\">\n",
       "  <thead>\n",
       "    <tr style=\"text-align: right;\">\n",
       "      <th></th>\n",
       "      <th>year</th>\n",
       "      <th>spring</th>\n",
       "      <th>fall</th>\n",
       "      <th>academic_year</th>\n",
       "      <th>required</th>\n",
       "      <th>quota</th>\n",
       "      <th>enrollment</th>\n",
       "      <th>junior</th>\n",
       "      <th>double</th>\n",
       "      <th>second</th>\n",
       "      <th>all</th>\n",
       "    </tr>\n",
       "    <tr>\n",
       "      <th>year-semester</th>\n",
       "      <th></th>\n",
       "      <th></th>\n",
       "      <th></th>\n",
       "      <th></th>\n",
       "      <th></th>\n",
       "      <th></th>\n",
       "      <th></th>\n",
       "      <th></th>\n",
       "      <th></th>\n",
       "      <th></th>\n",
       "      <th></th>\n",
       "    </tr>\n",
       "  </thead>\n",
       "  <tbody>\n",
       "    <tr>\n",
       "      <th>2007-02-01</th>\n",
       "      <td>2007</td>\n",
       "      <td>0</td>\n",
       "      <td>1</td>\n",
       "      <td>2</td>\n",
       "      <td>0</td>\n",
       "      <td>90</td>\n",
       "      <td>78</td>\n",
       "      <td>49</td>\n",
       "      <td>0</td>\n",
       "      <td>0</td>\n",
       "      <td>280</td>\n",
       "    </tr>\n",
       "    <tr>\n",
       "      <th>2008-01-01</th>\n",
       "      <td>2008</td>\n",
       "      <td>1</td>\n",
       "      <td>0</td>\n",
       "      <td>2</td>\n",
       "      <td>0</td>\n",
       "      <td>60</td>\n",
       "      <td>31</td>\n",
       "      <td>51</td>\n",
       "      <td>0</td>\n",
       "      <td>0</td>\n",
       "      <td>297</td>\n",
       "    </tr>\n",
       "    <tr>\n",
       "      <th>2008-02-01</th>\n",
       "      <td>2008</td>\n",
       "      <td>0</td>\n",
       "      <td>1</td>\n",
       "      <td>2</td>\n",
       "      <td>0</td>\n",
       "      <td>60</td>\n",
       "      <td>48</td>\n",
       "      <td>51</td>\n",
       "      <td>0</td>\n",
       "      <td>0</td>\n",
       "      <td>280</td>\n",
       "    </tr>\n",
       "    <tr>\n",
       "      <th>2009-01-01</th>\n",
       "      <td>2009</td>\n",
       "      <td>1</td>\n",
       "      <td>0</td>\n",
       "      <td>2</td>\n",
       "      <td>0</td>\n",
       "      <td>60</td>\n",
       "      <td>26</td>\n",
       "      <td>46</td>\n",
       "      <td>5</td>\n",
       "      <td>5</td>\n",
       "      <td>297</td>\n",
       "    </tr>\n",
       "    <tr>\n",
       "      <th>2009-02-01</th>\n",
       "      <td>2009</td>\n",
       "      <td>0</td>\n",
       "      <td>1</td>\n",
       "      <td>2</td>\n",
       "      <td>0</td>\n",
       "      <td>60</td>\n",
       "      <td>55</td>\n",
       "      <td>46</td>\n",
       "      <td>0</td>\n",
       "      <td>0</td>\n",
       "      <td>280</td>\n",
       "    </tr>\n",
       "  </tbody>\n",
       "</table>\n",
       "</div>"
      ],
      "text/plain": [
       "               year  spring  fall  academic_year  required  quota  enrollment  \\\n",
       "year-semester                                                                   \n",
       "2007-02-01     2007       0     1              2         0     90          78   \n",
       "2008-01-01     2008       1     0              2         0     60          31   \n",
       "2008-02-01     2008       0     1              2         0     60          48   \n",
       "2009-01-01     2009       1     0              2         0     60          26   \n",
       "2009-02-01     2009       0     1              2         0     60          55   \n",
       "\n",
       "               junior  double  second  all  \n",
       "year-semester                               \n",
       "2007-02-01         49       0       0  280  \n",
       "2008-01-01         51       0       0  297  \n",
       "2008-02-01         51       0       0  280  \n",
       "2009-01-01         46       5       5  297  \n",
       "2009-02-01         46       0       0  280  "
      ]
     },
     "execution_count": 3,
     "metadata": {},
     "output_type": "execute_result"
    }
   ],
   "source": [
    "# CSV = pd.DataFrame.from_csv(\"./os.csv\", header=0) # 운영체제\n",
    "CSV = pd.DataFrame.from_csv(\"./system.csv\", header=0) # 시스템프로그래밍\n",
    "CSV.head()"
   ]
  },
  {
   "cell_type": "markdown",
   "metadata": {
    "deletable": true,
    "editable": true
   },
   "source": [
    "### 2. 정규화(Normalization)"
   ]
  },
  {
   "cell_type": "code",
   "execution_count": 4,
   "metadata": {
    "collapsed": false,
    "deletable": true,
    "editable": true
   },
   "outputs": [
    {
     "data": {
      "text/html": [
       "<div>\n",
       "<style>\n",
       "    .dataframe thead tr:only-child th {\n",
       "        text-align: right;\n",
       "    }\n",
       "\n",
       "    .dataframe thead th {\n",
       "        text-align: left;\n",
       "    }\n",
       "\n",
       "    .dataframe tbody tr th {\n",
       "        vertical-align: top;\n",
       "    }\n",
       "</style>\n",
       "<table border=\"1\" class=\"dataframe\">\n",
       "  <thead>\n",
       "    <tr style=\"text-align: right;\">\n",
       "      <th></th>\n",
       "      <th>year</th>\n",
       "      <th>spring</th>\n",
       "      <th>fall</th>\n",
       "      <th>academic_year</th>\n",
       "      <th>required</th>\n",
       "      <th>quota</th>\n",
       "      <th>enrollment</th>\n",
       "      <th>junior</th>\n",
       "      <th>double</th>\n",
       "      <th>second</th>\n",
       "      <th>all</th>\n",
       "    </tr>\n",
       "    <tr>\n",
       "      <th>year-semester</th>\n",
       "      <th></th>\n",
       "      <th></th>\n",
       "      <th></th>\n",
       "      <th></th>\n",
       "      <th></th>\n",
       "      <th></th>\n",
       "      <th></th>\n",
       "      <th></th>\n",
       "      <th></th>\n",
       "      <th></th>\n",
       "      <th></th>\n",
       "    </tr>\n",
       "  </thead>\n",
       "  <tbody>\n",
       "    <tr>\n",
       "      <th>2007-02-01</th>\n",
       "      <td>-0.510526</td>\n",
       "      <td>-0.526316</td>\n",
       "      <td>0.526316</td>\n",
       "      <td>-0.263158</td>\n",
       "      <td>-0.263158</td>\n",
       "      <td>0.5</td>\n",
       "      <td>0.660526</td>\n",
       "      <td>-0.326316</td>\n",
       "      <td>-0.261988</td>\n",
       "      <td>-0.242105</td>\n",
       "      <td>-0.202085</td>\n",
       "    </tr>\n",
       "    <tr>\n",
       "      <th>2008-01-01</th>\n",
       "      <td>-0.410526</td>\n",
       "      <td>0.473684</td>\n",
       "      <td>-0.473684</td>\n",
       "      <td>-0.263158</td>\n",
       "      <td>-0.263158</td>\n",
       "      <td>0.0</td>\n",
       "      <td>-0.122807</td>\n",
       "      <td>-0.126316</td>\n",
       "      <td>-0.261988</td>\n",
       "      <td>-0.242105</td>\n",
       "      <td>-0.041708</td>\n",
       "    </tr>\n",
       "    <tr>\n",
       "      <th>2008-02-01</th>\n",
       "      <td>-0.410526</td>\n",
       "      <td>-0.526316</td>\n",
       "      <td>0.526316</td>\n",
       "      <td>-0.263158</td>\n",
       "      <td>-0.263158</td>\n",
       "      <td>0.0</td>\n",
       "      <td>0.160526</td>\n",
       "      <td>-0.126316</td>\n",
       "      <td>-0.261988</td>\n",
       "      <td>-0.242105</td>\n",
       "      <td>-0.202085</td>\n",
       "    </tr>\n",
       "    <tr>\n",
       "      <th>2009-01-01</th>\n",
       "      <td>-0.310526</td>\n",
       "      <td>0.473684</td>\n",
       "      <td>-0.473684</td>\n",
       "      <td>-0.263158</td>\n",
       "      <td>-0.263158</td>\n",
       "      <td>0.0</td>\n",
       "      <td>-0.206140</td>\n",
       "      <td>-0.626316</td>\n",
       "      <td>-0.150877</td>\n",
       "      <td>-0.142105</td>\n",
       "      <td>-0.041708</td>\n",
       "    </tr>\n",
       "    <tr>\n",
       "      <th>2009-02-01</th>\n",
       "      <td>-0.310526</td>\n",
       "      <td>-0.526316</td>\n",
       "      <td>0.526316</td>\n",
       "      <td>-0.263158</td>\n",
       "      <td>-0.263158</td>\n",
       "      <td>0.0</td>\n",
       "      <td>0.277193</td>\n",
       "      <td>-0.626316</td>\n",
       "      <td>-0.261988</td>\n",
       "      <td>-0.242105</td>\n",
       "      <td>-0.202085</td>\n",
       "    </tr>\n",
       "  </tbody>\n",
       "</table>\n",
       "</div>"
      ],
      "text/plain": [
       "                   year    spring      fall  academic_year  required  quota  \\\n",
       "year-semester                                                                 \n",
       "2007-02-01    -0.510526 -0.526316  0.526316      -0.263158 -0.263158    0.5   \n",
       "2008-01-01    -0.410526  0.473684 -0.473684      -0.263158 -0.263158    0.0   \n",
       "2008-02-01    -0.410526 -0.526316  0.526316      -0.263158 -0.263158    0.0   \n",
       "2009-01-01    -0.310526  0.473684 -0.473684      -0.263158 -0.263158    0.0   \n",
       "2009-02-01    -0.310526 -0.526316  0.526316      -0.263158 -0.263158    0.0   \n",
       "\n",
       "               enrollment    junior    double    second       all  \n",
       "year-semester                                                      \n",
       "2007-02-01       0.660526 -0.326316 -0.261988 -0.242105 -0.202085  \n",
       "2008-01-01      -0.122807 -0.126316 -0.261988 -0.242105 -0.041708  \n",
       "2008-02-01       0.160526 -0.126316 -0.261988 -0.242105 -0.202085  \n",
       "2009-01-01      -0.206140 -0.626316 -0.150877 -0.142105 -0.041708  \n",
       "2009-02-01       0.277193 -0.626316 -0.261988 -0.242105 -0.202085  "
      ]
     },
     "execution_count": 4,
     "metadata": {},
     "output_type": "execute_result"
    }
   ],
   "source": [
    "CSV = (CSV - CSV.mean()) / (CSV.max() - CSV.min())\n",
    "CSV.head()"
   ]
  },
  {
   "cell_type": "markdown",
   "metadata": {
    "deletable": true,
    "editable": true
   },
   "source": [
    "### 3. 선형회귀 데이터(column) 선택"
   ]
  },
  {
   "cell_type": "code",
   "execution_count": 5,
   "metadata": {
    "collapsed": false,
    "deletable": true,
    "editable": true
   },
   "outputs": [],
   "source": [
    "feature_to_filter = [\"required\", \"junior\", \"double\", \"second\", \"all\"]\n",
    "\n",
    "train_dataset = CSV[feature_to_filter].values.tolist()\n",
    "train_target=CSV[\"enrollment\"].values.tolist()"
   ]
  },
  {
   "cell_type": "markdown",
   "metadata": {
    "deletable": true,
    "editable": true
   },
   "source": [
    "### 4. 선형회귀(Linear Regression)"
   ]
  },
  {
   "cell_type": "code",
   "execution_count": 6,
   "metadata": {
    "collapsed": false,
    "deletable": true,
    "editable": true
   },
   "outputs": [
    {
     "data": {
      "text/plain": [
       "LinearRegression(copy_X=True, fit_intercept=True, n_jobs=1, normalize=False)"
      ]
     },
     "execution_count": 6,
     "metadata": {},
     "output_type": "execute_result"
    }
   ],
   "source": [
    "model = LinearRegression()\n",
    "model.fit(train_dataset, train_target)"
   ]
  },
  {
   "cell_type": "markdown",
   "metadata": {
    "deletable": true,
    "editable": true
   },
   "source": [
    "### 5. 결과"
   ]
  },
  {
   "cell_type": "code",
   "execution_count": 7,
   "metadata": {
    "collapsed": false,
    "deletable": true,
    "editable": true
   },
   "outputs": [
    {
     "data": {
      "text/html": [
       "<div>\n",
       "<style>\n",
       "    .dataframe thead tr:only-child th {\n",
       "        text-align: right;\n",
       "    }\n",
       "\n",
       "    .dataframe thead th {\n",
       "        text-align: left;\n",
       "    }\n",
       "\n",
       "    .dataframe tbody tr th {\n",
       "        vertical-align: top;\n",
       "    }\n",
       "</style>\n",
       "<table border=\"1\" class=\"dataframe\">\n",
       "  <thead>\n",
       "    <tr style=\"text-align: right;\">\n",
       "      <th></th>\n",
       "      <th>features</th>\n",
       "      <th>coef</th>\n",
       "    </tr>\n",
       "  </thead>\n",
       "  <tbody>\n",
       "    <tr>\n",
       "      <th>0</th>\n",
       "      <td>required</td>\n",
       "      <td>0.758887</td>\n",
       "    </tr>\n",
       "    <tr>\n",
       "      <th>1</th>\n",
       "      <td>junior</td>\n",
       "      <td>-0.124383</td>\n",
       "    </tr>\n",
       "    <tr>\n",
       "      <th>2</th>\n",
       "      <td>double</td>\n",
       "      <td>0.461754</td>\n",
       "    </tr>\n",
       "    <tr>\n",
       "      <th>3</th>\n",
       "      <td>second</td>\n",
       "      <td>-0.889428</td>\n",
       "    </tr>\n",
       "    <tr>\n",
       "      <th>4</th>\n",
       "      <td>all</td>\n",
       "      <td>-0.970979</td>\n",
       "    </tr>\n",
       "  </tbody>\n",
       "</table>\n",
       "</div>"
      ],
      "text/plain": [
       "   features      coef\n",
       "0  required  0.758887\n",
       "1    junior -0.124383\n",
       "2    double  0.461754\n",
       "3    second -0.889428\n",
       "4       all -0.970979"
      ]
     },
     "execution_count": 7,
     "metadata": {},
     "output_type": "execute_result"
    }
   ],
   "source": [
    "result = pd.DataFrame(list(zip(feature_to_filter, model.coef_)), columns=[\"features\", \"coef\"])\n",
    "result.head(100)"
   ]
  },
  {
   "cell_type": "code",
   "execution_count": null,
   "metadata": {
    "collapsed": true
   },
   "outputs": [],
   "source": []
  }
 ],
 "metadata": {
  "kernelspec": {
   "display_name": "Python 3",
   "language": "python",
   "name": "python3"
  },
  "language_info": {
   "codemirror_mode": {
    "name": "ipython",
    "version": 3
   },
   "file_extension": ".py",
   "mimetype": "text/x-python",
   "name": "python",
   "nbconvert_exporter": "python",
   "pygments_lexer": "ipython3",
   "version": "3.5.2"
  }
 },
 "nbformat": 4,
 "nbformat_minor": 2
}
